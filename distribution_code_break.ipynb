{
 "cells": [
  {
   "cell_type": "markdown",
   "metadata": {},
   "source": [
    "[Code break] - case 1, chapter 3 (p.53)"
   ]
  },
  {
   "cell_type": "code",
   "execution_count": 1,
   "metadata": {},
   "outputs": [],
   "source": [
    "import numpy as np\n",
    "import matplotlib.pyplot as plt"
   ]
  },
  {
   "cell_type": "code",
   "execution_count": 2,
   "metadata": {},
   "outputs": [],
   "source": [
    "# Generating a random red card count\n",
    "# 52 card\n",
    "np.random.seed(0)\n",
    "total_cards = 52\n",
    "red_card_count = np.random.randint(0, total_cards + 1)\n",
    "\n",
    "# black card count\n",
    "black_card_count = total_cards - red_card_count"
   ]
  },
  {
   "cell_type": "code",
   "execution_count": 3,
   "metadata": {},
   "outputs": [],
   "source": [
    "# Generating a random red card count\n",
    "# 52 card\n",
    "np.random.seed(0)\n",
    "total_cards = 52\n",
    "red_card_count = np.random.randint(0, total_cards + 1)\n",
    "\n",
    "# black card count\n",
    "black_card_count = total_cards - red_card_count\n",
    "\n",
    "\n",
    "# these definitions were defined in chapter 1\n",
    "def get_matching_event(event_condition, sample_space):\n",
    "   return set([outcome for outcome in sample_space\n",
    "       if event_condition(outcome)])\n",
    "\n",
    "def compute_event_probability(event_condition, generic_sample_space):\n",
    "    event = get_matching_event(event_condition, generic_sample_space)\n",
    "    if type(generic_sample_space) == type(set()):\n",
    "        return len(event) / len(generic_sample_space)\n",
    "\n",
    "    event_size = sum(generic_sample_space[outcome]\n",
    "             for outcome in event)\n",
    "    return event_size / sum(generic_sample_space.values())\n",
    "\n",
    "\n",
    "def compute_high_confidence_interval(likelihoods, bin_width):\n",
    "  peak_index = likelihoods.argmax()\n",
    "  area = likelihoods[peak_index] * bin_width\n",
    "  start_index, end_index = peak_index, peak_index + 1\n",
    "  while area < 0.95:\n",
    "    if start_index > 0:\n",
    "       start_index -= 1\n",
    "    if end_index < likelihoods.size - 1:\n",
    "       end_index += 1\n",
    "\n",
    "    area = likelihoods[start_index: end_index + 1].sum() * bin_width\n",
    "\n",
    "  range_start, range_end = bin_edges[start_index], bin_edges[end_index]\n",
    "  range_string = f\"{range_start:.6f} - {range_end:.6f}\"\n",
    "  print((f\"The frequency range {range_string} represents a \"\n",
    "        f\"{100 * area:.2f}% confidence interval\"))\n",
    "  return start_index, end_index"
   ]
  },
  {
   "cell_type": "code",
   "execution_count": 4,
   "metadata": {},
   "outputs": [],
   "source": [
    "weighted_sample_space = {'red_card': red_card_count,\n",
    "                        'black_card': black_card_count}\n",
    "\n",
    "prob_red = compute_event_probability(lambda x: x == 'red_card',weighted_sample_space)\n"
   ]
  },
  {
   "cell_type": "code",
   "execution_count": 5,
   "metadata": {},
   "outputs": [
    {
     "name": "stdout",
     "output_type": "stream",
     "text": [
      "The frequency range 0.842778 - 0.849052 represents a 95.02% confidence interval\n"
     ]
    }
   ],
   "source": [
    "red_card_count_array = np.random.binomial(50000, prob_red, 100000)\n",
    "frequency_array = red_card_count_array / 50000\n",
    "\n",
    "likelihoods, bin_edges = np.histogram(frequency_array, bins='auto', density=True)\n",
    "bin_width = bin_edges[1] - bin_edges[0]\n",
    "start_index, end_index = compute_high_confidence_interval(likelihoods, bin_width)"
   ]
  },
  {
   "cell_type": "markdown",
   "metadata": {},
   "source": [
    "Try to create a histogram with 95% confidence interval by `plt.hist` and highlight the 95% interval in yellow by ` .set_facecolor('yellow') `"
   ]
  },
  {
   "cell_type": "code",
   "execution_count": null,
   "metadata": {},
   "outputs": [],
   "source": []
  }
 ],
 "metadata": {
  "kernelspec": {
   "display_name": "Python 3",
   "language": "python",
   "name": "python3"
  },
  "language_info": {
   "codemirror_mode": {
    "name": "ipython",
    "version": 3
   },
   "file_extension": ".py",
   "mimetype": "text/x-python",
   "name": "python",
   "nbconvert_exporter": "python",
   "pygments_lexer": "ipython3",
   "version": "3.12.7"
  }
 },
 "nbformat": 4,
 "nbformat_minor": 2
}
