{
  "nbformat": 4,
  "nbformat_minor": 0,
  "metadata": {
    "colab": {
      "provenance": []
    },
    "kernelspec": {
      "name": "python3",
      "display_name": "Python 3"
    },
    "language_info": {
      "name": "python"
    }
  },
  "cells": [
    {
      "cell_type": "code",
      "execution_count": 1,
      "metadata": {
        "colab": {
          "base_uri": "https://localhost:8080/"
        },
        "id": "hzL_40lIXRXO",
        "outputId": "4015f546-1359-45ed-96fb-4ef4b2d01526"
      },
      "outputs": [
        {
          "output_type": "execute_result",
          "data": {
            "text/plain": [
              "3"
            ]
          },
          "metadata": {},
          "execution_count": 1
        }
      ],
      "source": [
        "1 + 2"
      ]
    },
    {
      "cell_type": "markdown",
      "source": [
        "This is an example: $\\frac{\\frac{\\sqrt{2}}{2} -1}{2}$"
      ],
      "metadata": {
        "id": "GECV1pIEX5k5"
      }
    },
    {
      "cell_type": "markdown",
      "source": [
        "There are $36$ possible outcomes. Six of these amount to $7$. We win with a probability of $\\frac{6}{36} = \\frac{1}{6}$ and we lose of a probability of $1 - \\frac{1}{6} = \\frac{5}{6}$. Expected wins are $4 \\times \\frac{1}{6} = \\frac{2}{3}$ and expected losses are $1 \\times \\frac{5}{6} = \\frac{5}{6}$. The game is not fair because $\\frac{2}{3} - \\frac{5}{6} = -\\frac{1}{6}$ is negative. So the game is biased towards the house. To make it fair we should win $5$ instead of $4$."
      ],
      "metadata": {
        "id": "aUJxM5z9ZEs4"
      }
    },
    {
      "cell_type": "code",
      "source": [
        "import random\n",
        "\n",
        "wins = 0\n",
        "howMany = 1000000\n",
        "\n",
        "for times in range(howMany):\n",
        "  d1 = random.randrange(1, 7)\n",
        "  d2 = random.randrange(1, 7)\n",
        "  sum = d1 + d2\n",
        "  if sum == 7:\n",
        "    wins += 4\n",
        "  else:\n",
        "    wins -= 1\n",
        "print(wins/howMany)\n"
      ],
      "metadata": {
        "colab": {
          "base_uri": "https://localhost:8080/"
        },
        "id": "qReMGcxVa8eL",
        "outputId": "e835ca31-bd0a-48f7-a55c-1e464c31997c"
      },
      "execution_count": 24,
      "outputs": [
        {
          "output_type": "stream",
          "name": "stdout",
          "text": [
            "-0.167555\n"
          ]
        }
      ]
    },
    {
      "cell_type": "code",
      "source": [],
      "metadata": {
        "id": "GdaLXrOMdUK_"
      },
      "execution_count": null,
      "outputs": []
    }
  ]
}